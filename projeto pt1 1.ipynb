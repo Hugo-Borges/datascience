{
  "nbformat": 4,
  "nbformat_minor": 0,
  "metadata": {
    "colab": {
      "name": "projeto",
      "provenance": [],
      "collapsed_sections": []
    },
    "kernelspec": {
      "name": "python3",
      "display_name": "Python 3"
    }
  },
  "cells": [
    {
      "cell_type": "code",
      "metadata": {
        "id": "7KqasibyvLZK",
        "colab_type": "code",
        "outputId": "e3b9b4e8-4541-4e0b-d582-37b6d5d04a09",
        "colab": {
          "base_uri": "https://localhost:8080/",
          "height": 50
        }
      },
      "source": [
        "#!pip install beautifulsoup4\n",
        "#!pip install lxml\n",
        "import requests\n",
        "from bs4 import BeautifulSoup\n",
        "import pandas as pd\n",
        "import time"
      ],
      "execution_count": 108,
      "outputs": [
        {
          "output_type": "stream",
          "text": [
            "Requirement already satisfied: beautifulsoup4 in /usr/local/lib/python3.6/dist-packages (4.6.3)\n",
            "Requirement already satisfied: lxml in /usr/local/lib/python3.6/dist-packages (4.2.6)\n"
          ],
          "name": "stdout"
        }
      ]
    },
    {
      "cell_type": "code",
      "metadata": {
        "id": "nK_QSb87mxH6",
        "colab_type": "code",
        "colab": {}
      },
      "source": [
        "link = 'http://www.nuforc.org/webreports/ndxe'\n",
        "final ='.html'\n",
        "\n",
        "df_1 = []\n",
        "c=0\n",
        "for i in range(1997,2018):\n",
        "  mes = ['01','02','03','04','05','06','07','08','09','10','11','12']\n",
        "  if(i==1998):  \n",
        "    mes = ['01','02','03','04','05','06','07','08','09']\n",
        "  if(i==1997):\n",
        "    mes = ['10','11','12']\n",
        "  for j in mes:\n",
        "    url_it = requests.get('{0}{1}{2}{3}'.format(link,i,j,final))\n",
        "    soup = BeautifulSoup(url_it.content, 'html.parser').find('table')\n",
        "    df = pd.read_html(str(soup))[0]\n",
        "    df_1.append(df)    \n",
        "    time.sleep(1)\n",
        "    \n",
        "\n",
        "df_2 = pd.concat(df_1, ignore_index=True)\n",
        "df_2.to_csv('OvNi.csv',index=False)\n",
        "\n"
      ],
      "execution_count": 0,
      "outputs": []
    },
    {
      "cell_type": "code",
      "metadata": {
        "id": "G28Dh1e6xGfP",
        "colab_type": "code",
        "colab": {}
      },
      "source": [
        "#     rr = requests.get(url_it)\n",
        "#     print(rr)\n",
        "#     lista_r = BeautifulSoup(rr.text, 'html.parser')\n",
        "#     lista_link2 = lista_r.find_all('table')\n",
        "#     print(lista_link2)\n",
        "#     df = pd.read_html(lista_link2)\n",
        "    \n",
        "#     print(df)"
      ],
      "execution_count": 0,
      "outputs": []
    },
    {
      "cell_type": "code",
      "metadata": {
        "id": "YOcdRzpbnFUe",
        "colab_type": "code",
        "colab": {}
      },
      "source": [
        ""
      ],
      "execution_count": 0,
      "outputs": []
    }
  ]
}