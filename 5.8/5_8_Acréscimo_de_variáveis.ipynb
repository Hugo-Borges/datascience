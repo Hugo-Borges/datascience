{
  "nbformat": 4,
  "nbformat_minor": 0,
  "metadata": {
    "colab": {
      "name": "5.8 - Acréscimo de variáveis",
      "provenance": [],
      "collapsed_sections": []
    },
    "kernelspec": {
      "name": "python3",
      "display_name": "Python 3"
    }
  },
  "cells": [
    {
      "cell_type": "code",
      "metadata": {
        "id": "zu66BnuGFSW0",
        "colab_type": "code",
        "colab": {}
      },
      "source": [
        ""
      ],
      "execution_count": 0,
      "outputs": []
    },
    {
      "cell_type": "code",
      "metadata": {
        "id": "gg-TXpkO_YDp",
        "colab_type": "code",
        "colab": {}
      },
      "source": [
        "# !pip install -U pandasql"
      ],
      "execution_count": 0,
      "outputs": []
    },
    {
      "cell_type": "code",
      "metadata": {
        "id": "kjxXUDG29OKI",
        "colab_type": "code",
        "colab": {}
      },
      "source": [
        "import pandas as pd\n",
        "import pandasql"
      ],
      "execution_count": 0,
      "outputs": []
    },
    {
      "cell_type": "markdown",
      "metadata": {
        "id": "Z4PfGMuKQKF0",
        "colab_type": "text"
      },
      "source": [
        "###Carregando o arquivo e deletando a coluna que restou da atividade passada:"
      ]
    },
    {
      "cell_type": "code",
      "metadata": {
        "id": "P6i6G1Q0_kON",
        "colab_type": "code",
        "colab": {}
      },
      "source": [
        "df = pd.read_csv('df_OVNI_limpo.csv')\n",
        "del df['Unnamed: 0']"
      ],
      "execution_count": 0,
      "outputs": []
    },
    {
      "cell_type": "markdown",
      "metadata": {
        "id": "lK5O-vqHQdm1",
        "colab_type": "text"
      },
      "source": [
        "###Dividindo o conteúdo da coluna Date / Time em duas novas colunas no mesmo dataframe."
      ]
    },
    {
      "cell_type": "code",
      "metadata": {
        "id": "1D3M50bbPw2-",
        "colab_type": "code",
        "colab": {}
      },
      "source": [
        "df_dt = pd.to_datetime(df['Date / Time'])\n",
        "\n",
        "hr = df_dt.dt.strftime('%H:%M')\n",
        "dt = df_dt.dt.strftime('%d/%m/%y')\n",
        "df['Sight_Date'] = dt\n",
        "df['Sight_Time'] = hr"
      ],
      "execution_count": 0,
      "outputs": []
    },
    {
      "cell_type": "markdown",
      "metadata": {
        "id": "fw05oOtsQoHs",
        "colab_type": "text"
      },
      "source": [
        "###Deletando a coluna Date / Time ."
      ]
    },
    {
      "cell_type": "code",
      "metadata": {
        "id": "2soF60sVE6Mc",
        "colab_type": "code",
        "colab": {}
      },
      "source": [
        "del df['Date / Time']"
      ],
      "execution_count": 0,
      "outputs": []
    },
    {
      "cell_type": "markdown",
      "metadata": {
        "id": "UAvDca8XRDI_",
        "colab_type": "text"
      },
      "source": [
        "###Criando a coluna com os dias da semana (numeral)"
      ]
    },
    {
      "cell_type": "code",
      "metadata": {
        "id": "ga1mylXVFrGz",
        "colab_type": "code",
        "colab": {
          "base_uri": "https://localhost:8080/",
          "height": 404
        },
        "outputId": "4bec89fe-86bf-47ab-9c49-772e5175eac2"
      },
      "source": [
        "dias_semana = pd.to_datetime(df['Sight_Date']).dt.weekday\n",
        "df['Sight_Weekday'] = dias_semana"
      ],
      "execution_count": 104,
      "outputs": [
        {
          "output_type": "execute_result",
          "data": {
            "text/html": [
              "<div>\n",
              "<style scoped>\n",
              "    .dataframe tbody tr th:only-of-type {\n",
              "        vertical-align: middle;\n",
              "    }\n",
              "\n",
              "    .dataframe tbody tr th {\n",
              "        vertical-align: top;\n",
              "    }\n",
              "\n",
              "    .dataframe thead th {\n",
              "        text-align: right;\n",
              "    }\n",
              "</style>\n",
              "<table border=\"1\" class=\"dataframe\">\n",
              "  <thead>\n",
              "    <tr style=\"text-align: right;\">\n",
              "      <th></th>\n",
              "      <th>City</th>\n",
              "      <th>State</th>\n",
              "      <th>Shape</th>\n",
              "      <th>Sight_Date</th>\n",
              "      <th>Sight_Time</th>\n",
              "      <th>Sight_Weekday</th>\n",
              "    </tr>\n",
              "  </thead>\n",
              "  <tbody>\n",
              "    <tr>\n",
              "      <th>0</th>\n",
              "      <td>East Greenwich</td>\n",
              "      <td>RI</td>\n",
              "      <td>Disk</td>\n",
              "      <td>29/01/97</td>\n",
              "      <td>23:15</td>\n",
              "      <td>2</td>\n",
              "    </tr>\n",
              "    <tr>\n",
              "      <th>1</th>\n",
              "      <td>Flagstaff</td>\n",
              "      <td>AZ</td>\n",
              "      <td>Light</td>\n",
              "      <td>26/01/97</td>\n",
              "      <td>22:00</td>\n",
              "      <td>6</td>\n",
              "    </tr>\n",
              "    <tr>\n",
              "      <th>2</th>\n",
              "      <td>Marion</td>\n",
              "      <td>WI</td>\n",
              "      <td>Triangle</td>\n",
              "      <td>25/01/97</td>\n",
              "      <td>21:00</td>\n",
              "      <td>5</td>\n",
              "    </tr>\n",
              "    <tr>\n",
              "      <th>3</th>\n",
              "      <td>Alta</td>\n",
              "      <td>UT</td>\n",
              "      <td>Other</td>\n",
              "      <td>24/01/97</td>\n",
              "      <td>19:00</td>\n",
              "      <td>4</td>\n",
              "    </tr>\n",
              "    <tr>\n",
              "      <th>4</th>\n",
              "      <td>North Kingstown</td>\n",
              "      <td>RI</td>\n",
              "      <td>Triangle</td>\n",
              "      <td>23/01/97</td>\n",
              "      <td>18:30</td>\n",
              "      <td>3</td>\n",
              "    </tr>\n",
              "    <tr>\n",
              "      <th>...</th>\n",
              "      <td>...</td>\n",
              "      <td>...</td>\n",
              "      <td>...</td>\n",
              "      <td>...</td>\n",
              "      <td>...</td>\n",
              "      <td>...</td>\n",
              "    </tr>\n",
              "    <tr>\n",
              "      <th>80024</th>\n",
              "      <td>New Rochelle</td>\n",
              "      <td>NY</td>\n",
              "      <td>Sphere</td>\n",
              "      <td>01/12/17</td>\n",
              "      <td>17:00</td>\n",
              "      <td>3</td>\n",
              "    </tr>\n",
              "    <tr>\n",
              "      <th>80025</th>\n",
              "      <td>Foyil</td>\n",
              "      <td>OK</td>\n",
              "      <td>Formation</td>\n",
              "      <td>01/12/17</td>\n",
              "      <td>17:00</td>\n",
              "      <td>3</td>\n",
              "    </tr>\n",
              "    <tr>\n",
              "      <th>80026</th>\n",
              "      <td>Chesapeake</td>\n",
              "      <td>VA</td>\n",
              "      <td>Light</td>\n",
              "      <td>01/12/17</td>\n",
              "      <td>04:00</td>\n",
              "      <td>3</td>\n",
              "    </tr>\n",
              "    <tr>\n",
              "      <th>80027</th>\n",
              "      <td>Boise</td>\n",
              "      <td>ID</td>\n",
              "      <td>Cigar</td>\n",
              "      <td>01/12/17</td>\n",
              "      <td>04:00</td>\n",
              "      <td>3</td>\n",
              "    </tr>\n",
              "    <tr>\n",
              "      <th>80028</th>\n",
              "      <td>Wasilla</td>\n",
              "      <td>AK</td>\n",
              "      <td>Flash</td>\n",
              "      <td>01/12/17</td>\n",
              "      <td>01:00</td>\n",
              "      <td>3</td>\n",
              "    </tr>\n",
              "  </tbody>\n",
              "</table>\n",
              "<p>80029 rows × 6 columns</p>\n",
              "</div>"
            ],
            "text/plain": [
              "                  City State      Shape Sight_Date Sight_Time  Sight_Weekday\n",
              "0       East Greenwich    RI       Disk   29/01/97      23:15              2\n",
              "1            Flagstaff    AZ      Light   26/01/97      22:00              6\n",
              "2               Marion    WI   Triangle   25/01/97      21:00              5\n",
              "3                 Alta    UT      Other   24/01/97      19:00              4\n",
              "4      North Kingstown    RI   Triangle   23/01/97      18:30              3\n",
              "...                ...   ...        ...        ...        ...            ...\n",
              "80024     New Rochelle    NY     Sphere   01/12/17      17:00              3\n",
              "80025            Foyil    OK  Formation   01/12/17      17:00              3\n",
              "80026       Chesapeake    VA      Light   01/12/17      04:00              3\n",
              "80027            Boise    ID      Cigar   01/12/17      04:00              3\n",
              "80028          Wasilla    AK      Flash   01/12/17      01:00              3\n",
              "\n",
              "[80029 rows x 6 columns]"
            ]
          },
          "metadata": {
            "tags": []
          },
          "execution_count": 104
        }
      ]
    },
    {
      "cell_type": "markdown",
      "metadata": {
        "id": "LGCKGvarRMxW",
        "colab_type": "text"
      },
      "source": [
        ""
      ]
    },
    {
      "cell_type": "markdown",
      "metadata": {
        "id": "LgDs2Q11RP-w",
        "colab_type": "text"
      },
      "source": [
        "###Crindo uma lista para substituir os números em texto"
      ]
    },
    {
      "cell_type": "code",
      "metadata": {
        "id": "41386J0aQ0xs",
        "colab_type": "code",
        "colab": {}
      },
      "source": [
        "dias = {\n",
        "    0: 'Segunda-Feira',\n",
        "    1: 'Terça-Feira',\n",
        "    2: 'Quarta-Feira',\n",
        "    3: 'Quinta-Feira',\n",
        "    4: 'Sexta-Feira',\n",
        "    5: 'Sábado',\n",
        "    6: 'Domingo'\n",
        "}"
      ],
      "execution_count": 0,
      "outputs": []
    },
    {
      "cell_type": "markdown",
      "metadata": {
        "id": "64oYpML-RXnb",
        "colab_type": "text"
      },
      "source": [
        "###Substituindo os números pelo texto"
      ]
    },
    {
      "cell_type": "code",
      "metadata": {
        "id": "zHB23e-aQ2zD",
        "colab_type": "code",
        "colab": {}
      },
      "source": [
        "dias_col = [dias[i] for i in list(df['Sight_Weekday'])]\n",
        "df['Sight_Weekday'] = dias_col"
      ],
      "execution_count": 0,
      "outputs": []
    },
    {
      "cell_type": "markdown",
      "metadata": {
        "id": "8dIvdB1BRg5i",
        "colab_type": "text"
      },
      "source": [
        "###Adicionando as duas novas colunas (Dia e mês)"
      ]
    },
    {
      "cell_type": "code",
      "metadata": {
        "id": "aTgEtl8fMKB2",
        "colab_type": "code",
        "colab": {}
      },
      "source": [
        "dia = df_dt.dt.strftime('%d')\n",
        "mes = df_dt.dt.strftime('%m')\n",
        "df['Sight_Day'] = dia\n",
        "df['Sight_Month'] = mes"
      ],
      "execution_count": 0,
      "outputs": []
    },
    {
      "cell_type": "markdown",
      "metadata": {
        "id": "EXSc8iw6Rmkt",
        "colab_type": "text"
      },
      "source": [
        "###salvando o dataframe resultante em um novo arquivo CSV."
      ]
    },
    {
      "cell_type": "code",
      "metadata": {
        "id": "HWmAlkHhNtO-",
        "colab_type": "code",
        "colab": {}
      },
      "source": [
        "df.to_csv('df_OVNI_preparado.csv')"
      ],
      "execution_count": 0,
      "outputs": []
    }
  ]
}