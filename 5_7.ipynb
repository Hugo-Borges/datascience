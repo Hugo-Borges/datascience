{
  "nbformat": 4,
  "nbformat_minor": 0,
  "metadata": {
    "colab": {
      "name": "5.7",
      "provenance": []
    },
    "kernelspec": {
      "name": "python3",
      "display_name": "Python 3"
    }
  },
  "cells": [
    {
      "cell_type": "code",
      "metadata": {
        "id": "POVP98mzk2p6",
        "colab_type": "code",
        "colab": {}
      },
      "source": [
        "!pip install -U pandasql"
      ],
      "execution_count": 0,
      "outputs": []
    },
    {
      "cell_type": "code",
      "metadata": {
        "id": "v66cgyyiK0C6",
        "colab_type": "code",
        "colab": {}
      },
      "source": [
        "import pandas as pd\n",
        "import pandasql"
      ],
      "execution_count": 0,
      "outputs": []
    },
    {
      "cell_type": "code",
      "metadata": {
        "id": "pyARIwPmL1DL",
        "colab_type": "code",
        "colab": {}
      },
      "source": [
        "ovini = pd.read_csv('OVNIS.csv')\n",
        "\n",
        "remover = \"\"\"\n",
        "SELECT * FROM OV WHERE lower(City) not in ('unknown', 'none', ' ') and  \n",
        "lower(State) not in ('unknown', 'none', ' ') and lower(Shape) not in ('unknown', 'none', ' ')\n",
        " \"\"\"\n",
        "  \n",
        "ovini_filtrado = pandasql.sqldf(remover)"
      ],
      "execution_count": 0,
      "outputs": []
    },
    {
      "cell_type": "code",
      "metadata": {
        "id": "g76kXjCpo8yH",
        "colab_type": "code",
        "colab": {}
      },
      "source": [
        "estados = pd.read_csv('states.csv')\n",
        "\n",
        "sql_estados = '''\n",
        "  SELECT ovini_filtrado.* FROM ovini_filtrado, estados\n",
        "  WHERE ovini_filtrado.State = estados.Abbreviation\n",
        "'''\n",
        "\n",
        "filtro_estados = pandasql.sqldf(sql_estados)"
      ],
      "execution_count": 0,
      "outputs": []
    },
    {
      "cell_type": "code",
      "metadata": {
        "id": "91BdEbucy6Lp",
        "colab_type": "code",
        "colab": {}
      },
      "source": [
        "ovni_remove_var = filtro_estados.drop(['Duration', 'Summary', 'Posted'],axis=1)\n",
        "\n",
        "mil_shape = '''\n",
        "  SELECT Shape, COUNT(Shape) as Ocorrencia FROM ovni_remove_var  \n",
        "  GROUP BY Shape HAVING Ocorrencia > 1000 \n",
        "'''\n",
        "\n",
        "filtro_shape = pandasql.sqldf(mil_shape)\n",
        "\n",
        "filtro_ovni = '''\n",
        "  SELECT ovni_remove_var.* FROM ovni_remove_var, filtro_shape\n",
        "  WHERE filtro_shape.Shape = ovni_remove_var.Shape\n",
        "'''"
      ],
      "execution_count": 0,
      "outputs": []
    },
    {
      "cell_type": "code",
      "metadata": {
        "id": "3-c8Ssfq0AUR",
        "colab_type": "code",
        "colab": {}
      },
      "source": [
        "ovni_df = pandasql.sqldf(filtro_ovni)\n",
        "\n",
        "ovni_df.to_csv('df_OVNI_limpo.csv')"
      ],
      "execution_count": 0,
      "outputs": []
    },
    {
      "cell_type": "code",
      "metadata": {
        "id": "aGRoRDqy1_e6",
        "colab_type": "code",
        "colab": {}
      },
      "source": [
        "new_ovni = pd.read_csv('df_OVNI_limpo.csv')"
      ],
      "execution_count": 0,
      "outputs": []
    }
  ]
}